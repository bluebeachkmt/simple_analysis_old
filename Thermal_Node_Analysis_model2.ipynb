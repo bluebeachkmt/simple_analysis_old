{
 "cells": [
  {
   "cell_type": "markdown",
   "metadata": {},
   "source": [
    "# インポート"
   ]
  },
  {
   "cell_type": "code",
   "execution_count": 1,
   "metadata": {},
   "outputs": [],
   "source": [
    "import numpy as np\n",
    "import sympy as sp\n",
    "import pandas as pd\n",
    "import csv as csv\n",
    "import random\n",
    "import scipy.integrate as scp\n",
    "from scipy import optimize\n",
    "from matplotlib import pyplot"
   ]
  },
  {
   "cell_type": "markdown",
   "metadata": {},
   "source": [
    "# 熱情報の設定 "
   ]
  },
  {
   "cell_type": "markdown",
   "metadata": {},
   "source": [
    "## 熱節点の情報をインポート"
   ]
  },
  {
   "cell_type": "code",
   "execution_count": 2,
   "metadata": {},
   "outputs": [
    {
     "name": "stdout",
     "output_type": "stream",
     "text": [
      "[[0.00000000e+00 1.33200000e+02 0.00000000e+00 1.50000000e-03\n",
      "  0.00000000e+00 1.50000000e-03 0.00000000e+00]\n",
      " [1.33200000e+02 0.00000000e+00 3.00000000e-03 0.00000000e+00\n",
      "  0.00000000e+00 0.00000000e+00 0.00000000e+00]\n",
      " [0.00000000e+00 3.00000000e-03 0.00000000e+00 0.00000000e+00\n",
      "  0.00000000e+00 9.95000000e+00 0.00000000e+00]\n",
      " [1.50000000e-03 0.00000000e+00 0.00000000e+00 0.00000000e+00\n",
      "  0.00000000e+00 3.30000000e-03 3.30000000e-03]\n",
      " [0.00000000e+00 0.00000000e+00 0.00000000e+00 0.00000000e+00\n",
      "  0.00000000e+00 0.00000000e+00 2.60700000e+00]\n",
      " [1.50000000e-03 0.00000000e+00 9.95000000e+00 3.30000000e-03\n",
      "  0.00000000e+00 0.00000000e+00 4.30909091e-01]\n",
      " [0.00000000e+00 0.00000000e+00 0.00000000e+00 3.30000000e-03\n",
      "  2.60700000e+00 4.30909091e-01 0.00000000e+00]]\n"
     ]
    }
   ],
   "source": [
    "\n",
    "# 熱コンダクタンスが入っているファイルを開いて、csvで読み出す。そのあとリスト形式で文字列のまま読み出して二次元リストにする。\n",
    "with open('Simple_Analysis.csv') as csv_file:\n",
    "  f = csv.reader(csv_file, delimiter=\",\", doublequote=True, lineterminator=\"\\r\\n\", quotechar='\"', skipinitialspace=True)\n",
    "  l = [[row_ij for row_ij in row_i] for row_i in f]\n",
    "\n",
    "\n",
    "# ノード数の取得 列方向のサイズを取得し、最初の列はノード名なので1引く\n",
    "# print(l[3][0] == [] )  ← これだめ\n",
    "N_node = np.size(l, axis = 1) - 1\n",
    "\n",
    "# ノード間の熱コンダクタンスを文字列の形で取得。二次元リストはスライスで一気に取ることはできないので、行についてはfor文で取得\n",
    "# k_str = [l[2 + i][1:] for i in range(N_node)]\n",
    "# r_str = [l[4 + N_node + i ][1:] if l[4 + N_node + i ][1:]=='N/A' else 0 for i in range(N_node)]\n",
    "k_ij = np.arange(N_node * N_node, dtype = float).reshape(N_node, N_node)\n",
    "r_ij = np.arange(N_node * N_node, dtype = float).reshape(N_node, N_node)\n",
    "\n",
    "for i in range(N_node):\n",
    "  for j in range(N_node):\n",
    "    if (l[i + 2][j + 1] == 'N/A' or l[i + 2][j + 1] == '' or l[i + 2][j + 1] == '#N/A') == False :\n",
    "      k_ij[i][j] = float(l[i + 2][j + 1])\n",
    "    else:\n",
    "      k_ij[i][j] = 0.0\n",
    "    if (l[i + 4 + N_node][j + 1] == 'N/A' or l[i + 4 + N_node][j + 1] == '' or l[i + 2][j + 1] == '#N/A') == False :\n",
    "      r_ij[i][j] = float(l[i + 4 + N_node][j + 1])\n",
    "    else:\n",
    "      r_ij[i][j] = 0.0\n",
    "\n",
    "      \n",
    "# k_str = [[float(l[2 + i][1 + j]) if (l[2+ i][1 + j] != 'N/A' and l[2+ i][1 + j] != '') else 0.0 for j in range(N_node)] for i in range(N_node)]\n",
    "# r_str = [[l[4 + N_node + i][1+ j] if l[4 + N_node + i][1 + j] != 'N/A' else 0 for j in range(N_node)] for i in range(N_node)]\n",
    "\n",
    "\n",
    "# print(bool(l[2][3] == \"0\"))\n",
    "# print(type(l))\n",
    "# print(np.shape(l))\n",
    "#print(float(l[2][2]))\n",
    "print(k_ij)\n",
    "# print(r_str)\n",
    "\n",
    "\n",
    "# csv_file = open('/content/gdrive/My Drive/Research/LOTUS/ThermalAnalyze/Thermal_Node_Definition.csv', \"r\", encoding=\"ms932\", errors=\"\", newline=\"\" )\n",
    "# #リスト形式\n",
    "# f = csv.reader(csv_file, delimiter=\",\", doublequote=True, lineterminator=\"\\r\\n\", quotechar='\"', skipinitialspace=True)\n",
    "# print(f.reader())"
   ]
  },
  {
   "cell_type": "markdown",
   "metadata": {},
   "source": [
    "## 熱伝導係数を保持するクラス"
   ]
  },
  {
   "cell_type": "code",
   "execution_count": 3,
   "metadata": {},
   "outputs": [],
   "source": [
    "class Cond:\n",
    "  def __init__(self, K_ij=0, R_ij=0):\n",
    "    self.K_ij = K_ij\n",
    "    self.R_ij = R_ij"
   ]
  },
  {
   "cell_type": "markdown",
   "metadata": {},
   "source": [
    "## 各ノードの熱入出力や熱特性を保持するクラス"
   ]
  },
  {
   "cell_type": "code",
   "execution_count": 193,
   "metadata": {},
   "outputs": [],
   "source": [
    "# Initialize Cond class class matrix\n",
    "def init_cond(k_mat, r_mat):\n",
    "  Cond_N = [[Cond(0,0) for i in range(len(k_mat[0]))] for j in range(len(k_mat[0]))]\n",
    "  for Cond_N_i , k_i, r_i in zip(Cond_N, k_mat, r_mat):\n",
    "    for Cond_N_ij, k_ij, r_ij in zip(Cond_N_i, k_i, r_i):\n",
    "      Cond_N_ij.K_ij = k_ij\n",
    "      Cond_N_ij.R_ij = r_ij\n",
    "  return Cond_N"
   ]
  },
  {
   "cell_type": "code",
   "execution_count": 194,
   "metadata": {},
   "outputs": [
    {
     "name": "stdout",
     "output_type": "stream",
     "text": [
      "133.2\n"
     ]
    }
   ],
   "source": [
    "Cond_N = init_cond(k_ij, r_ij)\n",
    "# ちゃんと格納されているか\n",
    "print(Cond_N[0][1].K_ij)"
   ]
  },
  {
   "cell_type": "markdown",
   "metadata": {},
   "source": [
    "## 衛星座標系の設定"
   ]
  },
  {
   "cell_type": "code",
   "execution_count": 195,
   "metadata": {},
   "outputs": [],
   "source": [
    "# 座標変換行列\n",
    "# C_b_to_i = \n",
    "# C_lvlh_to_i ="
   ]
  },
  {
   "cell_type": "code",
   "execution_count": 196,
   "metadata": {},
   "outputs": [],
   "source": [
    "# 軌道情報\n"
   ]
  },
  {
   "cell_type": "code",
   "execution_count": 197,
   "metadata": {},
   "outputs": [],
   "source": [
    "# 方向余弦を返す関数\n",
    "def direction_cosine(a, b, c):\n",
    "    return (np.array([np.cos(a), np.cos(b), np.cos(c)]))"
   ]
  },
  {
   "cell_type": "code",
   "execution_count": 198,
   "metadata": {},
   "outputs": [
    {
     "name": "stdout",
     "output_type": "stream",
     "text": [
      "[7.07106781e-01 7.07106781e-01 6.12323400e-17]\n",
      "[ 6.123234e-17  6.123234e-17 -1.000000e+00]\n"
     ]
    }
   ],
   "source": [
    "# 機体固定座標からみた太陽方向(とりあえず今は固定させている)\n",
    "sun_vec_from_b = direction_cosine(np.pi/4, np.pi/4, np.pi/2)\n",
    "print(sun_vec_from_b)\n",
    "\n",
    "# 機体固定座標絡みた地球方向(とりあえず今は固定させている)\n",
    "earth_vec_from_b = direction_cosine(np.pi/2, np.pi/2, np.pi)\n",
    "print(earth_vec_from_b)\n",
    "\n",
    "# 衛星-地球-太陽の角度 80degくらいに設定\n",
    "sat_earth_sun_angle=np.pi/2.5"
   ]
  },
  {
   "cell_type": "code",
   "execution_count": 199,
   "metadata": {},
   "outputs": [],
   "source": [
    "# 衛星パネルクラス 熱計算をするときにこの情報からCondクラスに代入していく\n",
    "class Panel:\n",
    "    def __init__(self, width=0, height=0, thick=0, sp_cap=0, Q=0, angle_of_sun=0, angle_of_earth=0):\n",
    "        self.width=width\n",
    "        self.height=height\n",
    "        self.area = width*height\n",
    "        self.thick=thick\n",
    "        self.sp_cap=sp_cap\n",
    "        self.Q=Q\n",
    "        self.angle_of_sun=angle_of_sun\n",
    "        self.angle_of_earth=angle_of_earth\n",
    "        self.cap=sp_cap*width*height*thick\n",
    "        \n",
    "    # 比熱容量を設定\n",
    "    def update_capacity(self):\n",
    "        self.cap=self.sp_cap*self.width*self.height*self.thick\n",
    "    # パネル面積を設定\n",
    "    def update_area(self):\n",
    "        self.area=self.width*self.height\n",
    "        \n",
    "\n",
    "# 衛星外部パネルクラス Panelクラスを継承 太陽方向ベクトルとの内積計算のために法線ベクトルを追加する\n",
    "class Ex_Panel(Panel):\n",
    "    def __init__(self, width=0, height=0, thick=0, sp_cap=0, Q=0, angle_of_sun=0, angle_of_earth=0, F_pe=0, eps=0, alpha=0, n_vec=np.array([0.0, 0.0, 0.0])):\n",
    "        self.width=width\n",
    "        self.height=height\n",
    "        self.area = width*height\n",
    "        self.thick=thick\n",
    "        self.sp_cap=sp_cap\n",
    "        self.Q=Q\n",
    "        self.angle_of_sun=angle_of_sun\n",
    "        self.angle_of_earth=angle_of_earth\n",
    "        self.F_pe = F_pe\n",
    "        self.eps = eps\n",
    "        self.alpha = alpha\n",
    "        self.n_vec=n_vec\n",
    "        self.cap=sp_cap*width*height*thick\n",
    "        \n",
    "    # 地球との形態係数\n",
    "    def view_factor_plate_sphere(self, h, beta=False):\n",
    "#         h = H/R\n",
    "        if beta == False:\n",
    "            beta=self.angle_of_earth\n",
    "        if beta>np.pi/2:\n",
    "            self.F_pe = 0\n",
    "            return 0\n",
    "\n",
    "        if beta-np.pi/2+np.arcsin(1/h)<0:\n",
    "            self.F_pe=np.cos(beta)/h**2\n",
    "        else:\n",
    "            x=np.sqrt(h**2-1)/np.tan(beta)\n",
    "            y=np.sqrt(1-x**2)\n",
    "            self.F_pe=np.cos(beta)/np.pi/h/h*(np.pi-np.arccos(x)-x*y*(np.tan(beta))**2)+1.0/np.pi*np.arctan(y/x*np.cos(beta))\n",
    "        return self.F_pe"
   ]
  },
  {
   "cell_type": "code",
   "execution_count": 200,
   "metadata": {},
   "outputs": [],
   "source": [
    "# LOTUSの情報をいれる\n",
    "PX_Panel = Ex_Panel(width=300E-3, height=400E-3, thick=4, n_vec=np.array([1.0, 0.0, 0.0]))\n",
    "MX_Panel = Ex_Panel(width=300E-3, height=400E-3, thick=4, n_vec=np.array([-1.0, 0.0, 0.0]))\n",
    "\n",
    "PY_Panel = Ex_Panel(width=300E-3, height=400E-3, thick=4, n_vec=np.array([0.0, 1.0, 0.0]))\n",
    "MY_Panel = Ex_Panel(width=300E-3, height=400E-3, thick=4, n_vec=np.array([0.0, -1.0, 0.0]))\n",
    "\n",
    "PZ_Panel = Ex_Panel(width=300E-3, height=300E-3, thick=4, sp_cap=3, n_vec=np.array([0.0, 0.0, 1.0]))\n",
    "MZ_Panel = Ex_Panel(width=300E-3, height=300E-3, thick=4, n_vec=np.array([0.0, 0.0, -1.0]))"
   ]
  },
  {
   "cell_type": "code",
   "execution_count": 201,
   "metadata": {},
   "outputs": [
    {
     "name": "stdout",
     "output_type": "stream",
     "text": [
      "0.3\n",
      "0.12\n"
     ]
    }
   ],
   "source": [
    "print(PX_Panel.width)\n",
    "PX_Panel.update_capacity()\n",
    "PX_Panel.update_area()\n",
    "print(PX_Panel.area)"
   ]
  },
  {
   "cell_type": "code",
   "execution_count": 202,
   "metadata": {},
   "outputs": [
    {
     "name": "stdout",
     "output_type": "stream",
     "text": [
      "0.7071067811865476\n",
      "-0.7071067811865476\n",
      "0.7071067811865476\n",
      "-0.7071067811865476\n",
      "6.123233995736766e-17\n",
      "-6.123233995736766e-17\n"
     ]
    }
   ],
   "source": [
    "# 太陽方向ベクトルとの内積を考える\n",
    "print(np.dot(PX_Panel.n_vec, sun_vec_from_b))\n",
    "print(np.dot(MX_Panel.n_vec, sun_vec_from_b))\n",
    "\n",
    "print(np.dot(PY_Panel.n_vec, sun_vec_from_b))\n",
    "print(np.dot(MY_Panel.n_vec, sun_vec_from_b))\n",
    "\n",
    "print(np.dot(PZ_Panel.n_vec, sun_vec_from_b))\n",
    "print(np.dot(MZ_Panel.n_vec, sun_vec_from_b))"
   ]
  },
  {
   "cell_type": "code",
   "execution_count": 203,
   "metadata": {},
   "outputs": [],
   "source": [
    "# ベクトルのなす角を計算\n",
    "def angle_of_vector(vec1, vec2):\n",
    "    cos=np.dot(vec1, vec2)/np.linalg.norm(vec1, ord=2)/np.linalg.norm(vec2, ord=2)\n",
    "    if cos < -1.0:\n",
    "        cos = -1\n",
    "    elif cos > 1.0:\n",
    "        cos = 1\n",
    "    return np.arccos(cos)"
   ]
  },
  {
   "cell_type": "markdown",
   "metadata": {},
   "source": [
    "## 形態係数の式\n",
    "http://www1.accsnet.ne.jp/~aml00731/c/thermal/View_Factor.pdf (微小平板の式を用いた）"
   ]
  },
  {
   "cell_type": "code",
   "execution_count": 204,
   "metadata": {},
   "outputs": [],
   "source": [
    "# パネルへの各熱入力に対する形態係数を計算する\n",
    "def view_factor_plate_sphere(h, beta):\n",
    "#     h = H/R\n",
    "    if beta>np.pi/2:\n",
    "        return 0\n",
    "    \n",
    "    if beta-np.pi/2+np.arcsin(1/h)<0:\n",
    "        F_12=np.cos(beta)/h**2\n",
    "    else:\n",
    "        x=np.sqrt(h**2-1)/np.tan(beta)\n",
    "        y=np.sqrt(1-x**2)\n",
    "        F_12=np.cos(beta)/np.pi/h/h*(np.pi-np.arccos(x)-x*y*(np.tan(beta))**2)+1.0/np.pi*np.arctan(y/x*np.cos(beta))\n",
    "    return F_12"
   ]
  },
  {
   "cell_type": "code",
   "execution_count": 205,
   "metadata": {},
   "outputs": [
    {
     "data": {
      "text/plain": [
       "0.02883444281121869"
      ]
     },
     "execution_count": 205,
     "metadata": {},
     "output_type": "execute_result"
    }
   ],
   "source": [
    "view_factor_plate_sphere(2, np.pi/2)"
   ]
  },
  {
   "cell_type": "code",
   "execution_count": 206,
   "metadata": {},
   "outputs": [],
   "source": [
    "# F_12をプロットしてみる\n",
    "h=np.linspace(1.0000001,2,100)\n",
    "F_12=np.zeros_like(h)\n",
    "for i in range(len(h)):\n",
    "    F_12[i]=view_factor_plate_sphere(h[i], np.pi/2)"
   ]
  },
  {
   "cell_type": "code",
   "execution_count": 207,
   "metadata": {},
   "outputs": [
    {
     "data": {
      "text/plain": [
       "[<matplotlib.lines.Line2D at 0x21bab167b80>]"
      ]
     },
     "execution_count": 207,
     "metadata": {},
     "output_type": "execute_result"
    },
    {
     "data": {
      "image/png": "[encoded data removed]",
      "text/plain": [
       "<Figure size 432x288 with 1 Axes>"
      ]
     },
     "metadata": {
      "needs_background": "light"
     },
     "output_type": "display_data"
    }
   ],
   "source": [
    "pyplot.plot(h, F_12)"
   ]
  },
  {
   "cell_type": "code",
   "execution_count": 208,
   "metadata": {},
   "outputs": [],
   "source": [
    "# 太陽熱入力 1399[W/m]\n",
    "E_s = 1353\n",
    "# 地球赤外放射 264[W/m]\n",
    "E_e = 237\n",
    "# アルベド係数\n",
    "alb_co = 0.60"
   ]
  },
  {
   "cell_type": "code",
   "execution_count": 209,
   "metadata": {},
   "outputs": [
    {
     "data": {
      "text/plain": [
       "0.21852622510204706"
      ]
     },
     "execution_count": 209,
     "metadata": {},
     "output_type": "execute_result"
    }
   ],
   "source": [
    "# 地球半径 Re\n",
    "Re = 6378\n",
    "alt = 800\n",
    "h_for_vf=(Re+alt)/Re\n",
    "view_factor_plate_sphere(h_for_vf, np.pi/2)"
   ]
  },
  {
   "cell_type": "code",
   "execution_count": 210,
   "metadata": {},
   "outputs": [],
   "source": [
    "# 吸収率と放射率\n",
    "alpha_s_osr = 0.077\n",
    "eps_osr = 0.79\n",
    "alpha_s_sap = 0.9\n",
    "eps_sap = 0.8"
   ]
  },
  {
   "cell_type": "code",
   "execution_count": 211,
   "metadata": {},
   "outputs": [],
   "source": [
    "# SAPの効率\n",
    "efficiency_sap = 0.3"
   ]
  },
  {
   "cell_type": "code",
   "execution_count": 212,
   "metadata": {},
   "outputs": [
    {
     "name": "stdout",
     "output_type": "stream",
     "text": [
      "0.39599999999999996\n"
     ]
    }
   ],
   "source": [
    "# 放熱面面積の割合\n",
    "radiator_rate = 0.6\n",
    "A_all = PX_Panel.area+MX_Panel.area+PY_Panel.area+MY_Panel.area+PZ_Panel.area+MZ_Panel.area\n",
    "A_rad = radiator_rate*A_all\n",
    "print(A_rad)"
   ]
  },
  {
   "cell_type": "code",
   "execution_count": 213,
   "metadata": {},
   "outputs": [],
   "source": [
    "# パネルと太陽、地球との角度を計算\n",
    "PX_Panel.angle_of_sun = angle_of_vector(PX_Panel.n_vec, sun_vec_from_b)\n",
    "MX_Panel.angle_of_sun = angle_of_vector(MX_Panel.n_vec, sun_vec_from_b)\n",
    "PY_Panel.angle_of_sun = angle_of_vector(PX_Panel.n_vec, sun_vec_from_b)\n",
    "MY_Panel.angle_of_sun = angle_of_vector(MY_Panel.n_vec, sun_vec_from_b)\n",
    "PZ_Panel.angle_of_sun = angle_of_vector(PZ_Panel.n_vec, sun_vec_from_b)\n",
    "MZ_Panel.angle_of_sun = angle_of_vector(MZ_Panel.n_vec, sun_vec_from_b)\n",
    "\n",
    "PX_Panel.angle_of_earth = angle_of_vector(PX_Panel.n_vec, earth_vec_from_b)\n",
    "MX_Panel.angle_of_earth = angle_of_vector(MX_Panel.n_vec, earth_vec_from_b)\n",
    "PY_Panel.angle_of_earth = angle_of_vector(PX_Panel.n_vec, earth_vec_from_b)\n",
    "MY_Panel.angle_of_earth = angle_of_vector(MY_Panel.n_vec, earth_vec_from_b)\n",
    "PZ_Panel.angle_of_earth = angle_of_vector(PZ_Panel.n_vec, earth_vec_from_b)\n",
    "MZ_Panel.angle_of_earth = angle_of_vector(MZ_Panel.n_vec, earth_vec_from_b)"
   ]
  },
  {
   "cell_type": "code",
   "execution_count": 214,
   "metadata": {},
   "outputs": [],
   "source": [
    "# 衛星の入熱（太陽からの入熱）\n",
    "PX_Panel.Q=alpha_s_sap*PX_Panel.area*max(0,np.cos(PX_Panel.angle_of_sun))*E_s*(1-efficiency_sap)\n",
    "MX_Panel.Q=alpha_s_sap*MX_Panel.area*max(0,np.cos(MX_Panel.angle_of_sun))*E_s*(1-efficiency_sap)\n",
    "PY_Panel.Q=alpha_s_sap*PY_Panel.area*max(0,np.cos(PY_Panel.angle_of_sun))*E_s*(1-efficiency_sap)\n",
    "MY_Panel.Q=alpha_s_sap*MY_Panel.area*max(0,np.cos(MY_Panel.angle_of_sun))*E_s*(1-efficiency_sap)\n",
    "PZ_Panel.Q=alpha_s_sap*PZ_Panel.area*max(0,np.cos(PZ_Panel.angle_of_sun))*E_s*(1-efficiency_sap)\n",
    "MZ_Panel.Q=alpha_s_sap*MZ_Panel.area*max(0,np.cos(MZ_Panel.angle_of_sun))*E_s*(1-efficiency_sap)\n",
    "\n",
    "# 衛星の入熱（地球からの赤外入熱）\n",
    "PX_Panel.Q+=alpha_s_sap*PX_Panel.area*max(0,np.cos(PX_Panel.angle_of_earth))*E_e*view_factor_plate_sphere(h_for_vf, PX_Panel.angle_of_earth)\n",
    "MX_Panel.Q+=alpha_s_sap*MX_Panel.area*max(0,np.cos(MX_Panel.angle_of_earth))*E_e*view_factor_plate_sphere(h_for_vf, MX_Panel.angle_of_earth)\n",
    "PY_Panel.Q+=alpha_s_sap*PY_Panel.area*max(0,np.cos(PY_Panel.angle_of_earth))*E_e*view_factor_plate_sphere(h_for_vf, PY_Panel.angle_of_earth)\n",
    "MY_Panel.Q+=alpha_s_sap*MY_Panel.area*max(0,np.cos(MY_Panel.angle_of_earth))*E_e*view_factor_plate_sphere(h_for_vf, MY_Panel.angle_of_earth)\n",
    "PZ_Panel.Q+=alpha_s_sap*PZ_Panel.area*max(0,np.cos(PZ_Panel.angle_of_earth))*E_e*view_factor_plate_sphere(h_for_vf, PZ_Panel.angle_of_earth)\n",
    "MZ_Panel.Q+=alpha_s_sap*MZ_Panel.area*max(0,np.cos(MZ_Panel.angle_of_earth))*E_e*view_factor_plate_sphere(h_for_vf, MZ_Panel.angle_of_earth)\n",
    "\n",
    "# 衛星の入熱（地球からの赤外入熱）\n",
    "PX_Panel.Q+=alpha_s_sap*PX_Panel.area*max(0,np.cos(PX_Panel.angle_of_earth))*alb_co*E_s*np.cos(sat_earth_sun_angle)*view_factor_plate_sphere(h_for_vf, PX_Panel.angle_of_earth)\n",
    "MX_Panel.Q+=alpha_s_sap*MX_Panel.area*max(0,np.cos(MX_Panel.angle_of_earth))*alb_co*E_s*np.cos(sat_earth_sun_angle)*view_factor_plate_sphere(h_for_vf, MX_Panel.angle_of_earth)\n",
    "PY_Panel.Q+=alpha_s_sap*PY_Panel.area*max(0,np.cos(PY_Panel.angle_of_earth))*alb_co*E_s*np.cos(sat_earth_sun_angle)*view_factor_plate_sphere(h_for_vf, PY_Panel.angle_of_earth)\n",
    "MY_Panel.Q+=alpha_s_sap*MY_Panel.area*max(0,np.cos(MY_Panel.angle_of_earth))*alb_co*E_s*np.cos(sat_earth_sun_angle)*view_factor_plate_sphere(h_for_vf, MY_Panel.angle_of_earth)\n",
    "PZ_Panel.Q+=alpha_s_sap*PZ_Panel.area*max(0,np.cos(PZ_Panel.angle_of_earth))*alb_co*E_s*np.cos(sat_earth_sun_angle)*view_factor_plate_sphere(h_for_vf, PZ_Panel.angle_of_earth)\n",
    "MZ_Panel.Q+=alpha_s_sap*MZ_Panel.area*max(0,np.cos(MZ_Panel.angle_of_earth))*alb_co*E_s*np.cos(sat_earth_sun_angle)*view_factor_plate_sphere(h_for_vf, MZ_Panel.angle_of_earth)"
   ]
  },
  {
   "cell_type": "code",
   "execution_count": 215,
   "metadata": {},
   "outputs": [
    {
     "data": {
      "text/plain": [
       "175.85450010636714"
      ]
     },
     "execution_count": 215,
     "metadata": {},
     "output_type": "execute_result"
    }
   ],
   "source": [
    "Q_in = PX_Panel.Q + MX_Panel.Q + PY_Panel.Q + MY_Panel.Q + PZ_Panel.Q + MZ_Panel.Q\n",
    "Q_in"
   ]
  },
  {
   "cell_type": "code",
   "execution_count": 216,
   "metadata": {},
   "outputs": [
    {
     "name": "stdout",
     "output_type": "stream",
     "text": [
      "72.32768990587215\n",
      "0.0\n",
      "72.32768990587215\n",
      "0.0\n",
      "4.697445083063455e-15\n",
      "31.19912029462286\n"
     ]
    }
   ],
   "source": [
    "print(PX_Panel.Q)\n",
    "print(MX_Panel.Q)\n",
    "print(PY_Panel.Q)\n",
    "print(MY_Panel.Q)\n",
    "print(PZ_Panel.Q)\n",
    "print(MZ_Panel.Q)"
   ]
  },
  {
   "cell_type": "markdown",
   "metadata": {},
   "source": [
    "## TEC(Thermal Electric Cooler)のモデル化"
   ]
  },
  {
   "cell_type": "markdown",
   "metadata": {},
   "source": [
    "### 参考ホームページ\n",
    "https://fluffyandflakey.blog/2019/08/29/cooling-a-cpu-with-tecs/\n",
    "https://www.qats.com/DataSheet/TEC_Modules (このファイルはこっちの式を採用)\n",
    "https://www.meerstetter.ch/compendium/tec-peltier-element-design-guide (TECのスペック選びに使った)"
   ]
  },
  {
   "cell_type": "markdown",
   "metadata": {},
   "source": [
    "\\begin{align}\n",
    "Q_c &= 2N \\{S_{AB} I T_c - 2N \\frac{k \\rho}{R} (T_h - T_c) \\} - \\frac{1}{2} I^2 R \\\\\n",
    "Q_h &= 2N \\{S_{AB} I T_h - 2N \\frac{k \\rho}{R} (T_h - T_c) \\} + \\frac{1}{2} I^2 R \\\\\n",
    "V &= 2N\\{S_{AB} (T_h - T_c)\\} + IR \\\\\n",
    "COP &= \\frac{Q_c}{VI} = \\frac{2N\\{S_{AB} I T_c - 2N\\frac{k \\rho}{R}(T_h-T_c)\\}-\\frac{1}{2}I^2 R}{VI}\n",
    "\\end{align}"
   ]
  },
  {
   "cell_type": "markdown",
   "metadata": {},
   "source": [
    "\\begin{align}\n",
    "  & N : \\text{The number of couples} && [-] \\\\\n",
    "  & I : \\text{Electric current passing through the Peltier} && [A] \\\\\n",
    "  &V : \\text{The voltage across TEC module} &&[V]\\\\\n",
    "  &Q_c  : \\text{Absorbed power on the Peltier cold side} && [W] \\\\\n",
    "  &Q_h : \\text{Power rejected by the Peltier hot side} &&[W]\\\\\n",
    "  &S_{ab} : \\text{the Seebeck coefficient} &&[V/K]\\\\\n",
    "  &k : \\text{Thermal conductivity of the module} &&[W/m \\cdot K]\\\\\n",
    "  &R : \\text{Electric resistance of the module} &&[\\Omega]\\\\\n",
    "  &\\rho : \\text{Electrical resistivity} &&[\\Omega \\cdot m]\\\\\n",
    "  &T_c : \\text{Cold side temperature} &&[K] \\\\\n",
    "  &T_h : \\text{Hot side temperature} &&[K] \\\\\n",
    "  &\\Delta T = T_h - T_c : \\text{Temperature difference} &&[K]\\\\\n",
    "\\end{align}"
   ]
  },
  {
   "cell_type": "code",
   "execution_count": 217,
   "metadata": {},
   "outputs": [],
   "source": [
    "# ペルチェに関するクラス\n",
    "class Peltier: \n",
    "    def __init__(self, sm=200e-6, km=1.5, rm=3.02, n=127, rho=10e-6):\n",
    "        self.Sm_ab = sm\n",
    "        self.Km = km\n",
    "        self.Rm = rm\n",
    "        self.Nm = n\n",
    "        self.Rho = rho\n",
    "  \n",
    "    def cAlculate_Voltage(self, DT, I):\n",
    "        return 2 * self.Nm * self.Sm_ab * DT + self.Rm * I\n",
    "  \n",
    "    def cAlculate_QC(self, TC, DT, I):\n",
    "        return 2 * self.Nm * (self.Sm_ab*TC*I-2*self.Nm*self.Km*self.Rho/self.Rm*DT) - 0.5*self.Rm*I*I\n",
    "  \n",
    "    def cAlculate_QH(self, TH, DT, I):\n",
    "        return 2 * self.Nm * (self.Sm_ab*TH*I-2*self.Nm*self.Km*self.Rho/self.Rm*DT) + 0.5*self.Rm*I*I\n",
    "    \n",
    "    def cAlculate_COP(self, TC, DT, I):\n",
    "        V = self.cAlculate_Voltage(DT, I)\n",
    "        QC = self.cAlculate_QC(TC, DT, I)\n",
    "        return QC/(V*I)\n",
    "    # Qc = 0 とおいてDTについて解く\n",
    "    def cAlculate_DTmax(self, TH, I):\n",
    "        return (self.Sm_ab * I * TH - I * I * self.Rm / (4.0 * self.Nm))/(self.Sm_ab * I + 2.0 * self.Nm * self.Km * self.Rho / self.Rm)\n",
    "    def cAlculate_I_argmax_COP(self, TC, DT):\n",
    "        I_cop_max = (4.0*self.Rho*self.Km*self.Nm*DT/(self.Sm_ab*self.Rm*(TC+TC+DT))*(1.0+np.sqrt(1+self.Sm_ab**2/2.0/self.Rho/self.Km*(TC+TC+DT))))\n",
    "        return I_cop_max"
   ]
  },
  {
   "cell_type": "code",
   "execution_count": 218,
   "metadata": {},
   "outputs": [],
   "source": [
    "# ペルチェクラスの初期化\n",
    "pel = Peltier()"
   ]
  },
  {
   "cell_type": "markdown",
   "metadata": {},
   "source": [
    "## TECの曲線のグラフ化"
   ]
  },
  {
   "cell_type": "markdown",
   "metadata": {},
   "source": [
    " ### $Q_C$ v.s. $\\Delta T$"
   ]
  },
  {
   "cell_type": "code",
   "execution_count": 219,
   "metadata": {},
   "outputs": [
    {
     "data": {
      "image/png": "[encoded data removed]",
      "text/plain": [
       "<Figure size 432x288 with 1 Axes>"
      ]
     },
     "metadata": {
      "needs_background": "light"
     },
     "output_type": "display_data"
    }
   ],
   "source": [
    "TH_graph = 300\n",
    "I_graph_list = np.linspace(1.0, 4.0, 5)\n",
    "\n",
    "for I_graph in I_graph_list:\n",
    "    DT_max = pel.cAlculate_DTmax(TH_graph, I_graph)\n",
    "    DT_graph = np.linspace(0.0, DT_max, 10)\n",
    "    QC_graph = pel.cAlculate_QC(TH_graph-DT_graph, DT_graph, I_graph)\n",
    "    pyplot.plot(DT_graph, QC_graph, '-o', label = 'I = {0}'.format(I_graph))\n",
    "\n",
    "pyplot.title('Q_c v.s. DT')\n",
    "pyplot.xlabel('DT [K]')\n",
    "pyplot.ylabel('Q_c [W]')\n",
    "pyplot.legend()\n",
    "pyplot.xlim(0,)\n",
    "pyplot.ylim(0,)\n",
    "pyplot.show()"
   ]
  },
  {
   "cell_type": "markdown",
   "metadata": {},
   "source": [
    " ### $V$ v.s. $\\Delta T$"
   ]
  },
  {
   "cell_type": "code",
   "execution_count": 220,
   "metadata": {},
   "outputs": [
    {
     "data": {
      "image/png": "[encoded data removed]",
      "text/plain": [
       "<Figure size 432x288 with 1 Axes>"
      ]
     },
     "metadata": {
      "needs_background": "light"
     },
     "output_type": "display_data"
    }
   ],
   "source": [
    "for I_graph in I_graph_list:\n",
    "    DT_max = pel.cAlculate_DTmax(TH_graph, I_graph)\n",
    "    DT_graph = np.linspace(0.0, DT_max, 10)\n",
    "    V_graph = pel.cAlculate_Voltage(DT_graph, I_graph)\n",
    "    pyplot.plot(DT_graph, V_graph, '-o', label = 'I = {0}'.format(I_graph))\n",
    "\n",
    "pyplot.title('V v.s. DT')\n",
    "pyplot.xlabel('DT [K]')\n",
    "pyplot.ylabel('Voltage [A]')\n",
    "pyplot.legend()\n",
    "pyplot.xlim(0,)\n",
    "pyplot.ylim(0,)\n",
    "pyplot.show()"
   ]
  },
  {
   "cell_type": "markdown",
   "metadata": {},
   "source": [
    "### $COP$ v.s. $I$"
   ]
  },
  {
   "cell_type": "code",
   "execution_count": 221,
   "metadata": {},
   "outputs": [
    {
     "data": {
      "image/png": "[encoded data removed]",
      "text/plain": [
       "<Figure size 432x288 with 1 Axes>"
      ]
     },
     "metadata": {
      "needs_background": "light"
     },
     "output_type": "display_data"
    }
   ],
   "source": [
    "I_max = 4.0\n",
    "DT_COP_list = np.linspace(0, 70, 8)\n",
    "I_COP_graph = np.linspace(1.0e-4, 1, 100) * I_max\n",
    "\n",
    "# DTによってCOPが最大になるIを格納\n",
    "COP_max_value_list = []\n",
    "I_max_by_COP_list = []\n",
    "\n",
    "# COPとIをそれぞれfor文で回してリストを作成\n",
    "for DT_COP_graph in DT_COP_list:\n",
    "    COP_graph = []\n",
    "    for I_COP in I_COP_graph:\n",
    "        COP_graph.append(pel.cAlculate_COP(TH_graph - DT_COP_graph, DT_COP_graph, I_COP))\n",
    "    COP_max_value = max(COP_graph)\n",
    "    I_max_by_COP = I_COP_graph[COP_graph.index(COP_max_value)]\n",
    "    COP_max_value_list.append(COP_max_value)\n",
    "    I_max_by_COP_list.append(I_max_by_COP)\n",
    "    pyplot.plot(I_COP_graph/I_max, COP_graph, '-', label = 'DT = {0}'.format(DT_COP_graph))\n",
    "\n",
    "pyplot.plot(np.array(I_max_by_COP_list)/I_max, COP_max_value_list, 'ok')\n",
    "for I_max_by_COP, COP_max_value in zip(I_max_by_COP_list, COP_max_value_list):\n",
    "    if COP_max_value < 4.0:\n",
    "        pyplot.text(I_max_by_COP/I_max, COP_max_value, 'I={0:.2f} A COP={1:.2f}'.format(I_max_by_COP,COP_max_value))\n",
    "pyplot.title('COP v.s. DT')\n",
    "pyplot.xlabel('I/I_max [-]')\n",
    "pyplot.ylabel('COP [-]')\n",
    "pyplot.legend()\n",
    "pyplot.xlim(0,1.0)\n",
    "pyplot.ylim(0,4)\n",
    "pyplot.show()"
   ]
  },
  {
   "cell_type": "markdown",
   "metadata": {},
   "source": [
    "### $COP$ v.s. $I$ 微分が正しいかどうかの確認"
   ]
  },
  {
   "cell_type": "markdown",
   "metadata": {},
   "source": [
    "\\begin{align}\n",
    "COP &= \\frac{Q_c}{VI} = \\frac{2N\\{S_{AB} I T_c - 2N\\frac{k \\rho}{R}(T_h-T_c)\\}-\\frac{1}{2}I^2 R}{\\{2N\\{S_{AB} (T_h - T_c)\\} + IR\\}I} \\\\\n",
    "&= \\frac{a_2I^2+a_1I+a_0}{b_2I^2+b_1I}\n",
    "\\end{align}"
   ]
  },
  {
   "cell_type": "code",
   "execution_count": 222,
   "metadata": {},
   "outputs": [
    {
     "name": "stdout",
     "output_type": "stream",
     "text": [
      "a2=-1.51\n",
      "a1=14.224000000000002\n",
      "a0=-6.40887417218543\n",
      "b2=3.02\n",
      "b1=1.016\n"
     ]
    }
   ],
   "source": [
    "# DT=20のとき\n",
    "a2 = -0.5*pel.Rm\n",
    "a1 = 2.0*pel.Nm*pel.Sm_ab*(TH_graph-20)\n",
    "a0 = -4*pel.Nm**2*pel.Km*pel.Rho/pel.Rm*20\n",
    "b2 = pel.Rm\n",
    "b1 = 2.0*pel.Sm_ab*pel.Nm*20\n",
    "print(\"a2={0}\\na1={1}\\na0={2}\\nb2={3}\\nb1={4}\".format(a2,a1,a0,b2,b1))"
   ]
  },
  {
   "cell_type": "code",
   "execution_count": 223,
   "metadata": {},
   "outputs": [
    {
     "data": {
      "image/png": "[encoded data removed]",
      "text/plain": [
       "<Figure size 432x288 with 1 Axes>"
      ]
     },
     "metadata": {
      "needs_background": "light"
     },
     "output_type": "display_data"
    }
   ],
   "source": [
    "COP_graph_confirm=(a2*I_COP_graph**2+a1*I_COP_graph+a0)/(b2*I_COP_graph**2+b1*I_COP_graph)\n",
    "pyplot.plot(I_COP_graph/I_max, COP_graph_confirm, '-')\n",
    "pyplot.xlim(0,1.0)\n",
    "pyplot.ylim(0,4)\n",
    "pyplot.show()"
   ]
  },
  {
   "cell_type": "markdown",
   "metadata": {},
   "source": [
    "$COP$が最大になる$I$は以下の式"
   ]
  },
  {
   "cell_type": "markdown",
   "metadata": {},
   "source": [
    "\\begin{align}\n",
    "    I_{@maxCOP}=\\frac{4\\rho k N (T_h-T_c)}{S_{AB} R (T_h-T_c)} \\{ 1+\\sqrt{1+\\frac{{S_{AB}}^2}{2 \\rho k}(T_h+T_c)} \\}\n",
    "\\end{align}"
   ]
  },
  {
   "cell_type": "code",
   "execution_count": 224,
   "metadata": {},
   "outputs": [
    {
     "name": "stdout",
     "output_type": "stream",
     "text": [
      "[0.         0.49964554 1.01434643 1.54488257 2.09208936 2.65686276\n",
      " 3.24016488 3.84303024]\n"
     ]
    }
   ],
   "source": [
    "# I_max_COP = 4.0*pel.Rho*pel.Km*pel.Nm*20/(pel.Sm_ab*pel.Rm*(TH_graph+TH_graph-20))*(1.0+np.sqrt(1+pel.Sm_ab**2/2.0/pel.Rho/pel.Km*(TH_graph+TH_graph-20)))\n",
    "I_max_COP = pel.cAlculate_I_argmax_COP(TH_graph-DT_COP_list, DT_COP_list)\n",
    "print(I_max_COP)"
   ]
  },
  {
   "cell_type": "markdown",
   "metadata": {},
   "source": [
    "# TEC制御"
   ]
  },
  {
   "cell_type": "markdown",
   "metadata": {},
   "source": [
    "\\begin{align}\n",
    "  &C_o = 29.48 : \\text{Capacity of the object} && [J/K] \\\\\n",
    "  &C_{s1} = 3.6 : \\text{Capacity of the cold side of the Peltier} && [J/K] \\\\\n",
    "  &C_{s2} = 3.6 : \\text{Capacity of the cold side of the Peltier} &&[J/K]\\\\\n",
    "  &K_{o,s1} = 1.8 : \\text{Conductivity between the object and the cold side of the Peltier} &&[W/K]\\\\\n",
    "  &R_{s2,a} = 1.53e-10 : \\text{Conductivity of the cold side of the Peltier} &&[W/K^4]\\\\\n",
    "\\end{align}"
   ]
  },
  {
   "cell_type": "code",
   "execution_count": 228,
   "metadata": {},
   "outputs": [],
   "source": [
    "# # 初期状態\n",
    "# T0 = [263, 263, 263, 3]\n",
    "# C = [29.48, 3.6, 3.6, 1e+10]\n",
    "# Qg = [1, 0, 0, 0]\n",
    "# I = 0\n",
    "# 消費電力\n",
    "P_gen = 50\n",
    "\n",
    "# TECに供給する電力\n",
    "P_tec = 4\n",
    "# COPはとりあえず2くらい\n",
    "COP_tec = 2\n",
    "# QcはCOP*供給電力\n",
    "Qc_tec = P_tec * COP_tec\n",
    "# ステファンボルツマン定数\n",
    "sigma = 5.669E-8\n",
    "\n",
    "T0 = [273, 273, 273, 273, 273, 273, 273]\n",
    "T_obj_list = np.linspace(200, 270, 100)\n",
    "P_gen_list = np.linspace(10, 50, 100)\n",
    "# C=[1000, 1000, 1000, 1000, 1000, 1000, 1000]\n",
    "C =  [18.3, 15.0, 15.0, 976.8, 29191.7, 2043.4, 2043.4]\n",
    "Qg = [1.0, 0, 0, 0, 0, 0, 0]"
   ]
  },
  {
   "cell_type": "code",
   "execution_count": 105,
   "metadata": {},
   "outputs": [],
   "source": [
    "# 制御パラメータ\n",
    "# Kp = 0.0001\n",
    "# Kd = 0.0001"
   ]
  },
  {
   "cell_type": "code",
   "execution_count": 106,
   "metadata": {},
   "outputs": [],
   "source": [
    "# 目標値\n",
    "# T_obj_d = 213"
   ]
  },
  {
   "cell_type": "code",
   "execution_count": 107,
   "metadata": {},
   "outputs": [],
   "source": [
    "# 熱伝導方程式\n",
    "def dT_dt(T, Cond_N, C, Qg):\n",
    "    dTdt=[]\n",
    "    for T_i, Cond_N_i, C_i, Qg_i in zip(T, Cond_N, C, Qg):\n",
    "        Q_cond_i = 0\n",
    "        for Cond_N_ij, T_j in zip(Cond_N_i,T):\n",
    "            Q_cond_i += Cond_N_ij.K_ij*(T_i - T_j) + Cond_N_ij.R_ij*(T_i**4 - T_j**4)\n",
    "        dTdt.append((Qg_i - Q_cond_i)/C_i)\n",
    "    return dTdt"
   ]
  },
  {
   "cell_type": "code",
   "execution_count": 108,
   "metadata": {},
   "outputs": [],
   "source": [
    "# dT_dt(T0, Cond_N, C, Qg)"
   ]
  },
  {
   "cell_type": "code",
   "execution_count": 109,
   "metadata": {},
   "outputs": [],
   "source": [
    "# def system(t, x):\n",
    "#     global I\n",
    "#     dI = - Kp * (T_obj_d - x[1]) - Kd * dT_dt(x, Cond_N, C, Qg)[1]\n",
    "#     I = I + dI\n",
    "#     if I>0:\n",
    "#         I = min(I_max, I)\n",
    "#     else:\n",
    "#         I = 0\n",
    "#     Qg[1] = pel.cAlculate_QC(x[1], x[2]-x[1], I)\n",
    "#     Qg[2] = pel.cAlculate_QH(x[2], x[2]-x[1], I)\n",
    "    \n",
    "#     y = dT_dt(x, Cond_N, C, Qg)\n",
    "#     return y"
   ]
  },
  {
   "cell_type": "code",
   "execution_count": 110,
   "metadata": {},
   "outputs": [],
   "source": [
    "# def simulation(x0, end, step):\n",
    "#     T_obj = []\n",
    "#     t = []\n",
    "#     I_rec = []\n",
    "#     ode =  scp.ode(system)\n",
    "#     ode.set_integrator('dopri5', method='bdf', atol=1.0e-2)\n",
    "#     ode.set_initial_value(x0, 0)\n",
    "#     t.append(0)\n",
    "#     T_obj.append(x0[0])\n",
    "#     I_rec.append(0)\n",
    "#     while ode.successful() and ode.t < end - step:\n",
    "#         ode.integrate(ode.t + step)\n",
    "#         t.append(ode.t)\n",
    "#         T_obj.append(ode.y[1])\n",
    "#         I_rec.append(I)\n",
    "#     return T_obj, I_rec, t"
   ]
  },
  {
   "cell_type": "code",
   "execution_count": 111,
   "metadata": {},
   "outputs": [],
   "source": [
    "# def Q_generated(T):\n",
    "#     Gg="
   ]
  },
  {
   "cell_type": "code",
   "execution_count": null,
   "metadata": {},
   "outputs": [],
   "source": []
  },
  {
   "cell_type": "code",
   "execution_count": 112,
   "metadata": {},
   "outputs": [],
   "source": [
    "def system(t, x):\n",
    "    Qg[1]= -Qc_tec\n",
    "    Qg[2]= P_tec+Qc_tec\n",
    "    Qg[4]= P_gen\n",
    "    Qg[5]= -eps_osr*1.0*sigma*A_rad*(x[5]**4 - 4**4)\n",
    "    Qg[6]= Q_in - eps_sap*1.0*sigma*(A_all-A_rad)*(x[6]**4 - 4**4)\n",
    "    \n",
    "    y = dT_dt(x, Cond_N, C, Qg)\n",
    "    return y"
   ]
  },
  {
   "cell_type": "code",
   "execution_count": 124,
   "metadata": {},
   "outputs": [],
   "source": [
    "# TEC制御なしバージョン\n",
    "def simulation(x0, end, step):\n",
    "    T_obj = []\n",
    "    T_tec_c = []\n",
    "    T_tec_h = []\n",
    "    T_ins = []\n",
    "    T_pgen = []\n",
    "    T_out = []\n",
    "    T_in = []\n",
    "    t = []\n",
    "    ode =  scp.ode(system)\n",
    "    ode.set_integrator('dopri5', method='bdf', atol=1.0e-2)\n",
    "    # 最小値は0(絶対零度)にクリッピングさせる\n",
    "    x0=np.clip(x0, 0.0, None)\n",
    "    ode.set_initial_value(x0, 0)\n",
    "    t.append(0)\n",
    "    T_obj.append(x0[0])\n",
    "    T_tec_c.append(x0[1])\n",
    "    T_tec_h.append(x0[2])\n",
    "    T_ins.append(x0[3])\n",
    "    T_pgen.append(x0[4])\n",
    "    T_out.append(x0[5])\n",
    "    T_in.append(x0[6])\n",
    "    while ode.successful() and ode.t < end - step:\n",
    "        # 最小値をゼロにクリッピングさせる\n",
    "        ode.y[0:6]=np.clip(ode.y[0:6], 0.0, None)\n",
    "        ode.integrate(ode.t + step)\n",
    "        t.append(ode.t)\n",
    "        T_obj.append(ode.y[0])\n",
    "        T_tec_c.append(ode.y[1])\n",
    "        T_tec_h.append(ode.y[2])\n",
    "        T_ins.append(ode.y[3])\n",
    "        T_pgen.append(ode.y[4])\n",
    "        T_out.append(ode.y[5])\n",
    "        T_in.append(ode.y[6])\n",
    "    return T_obj, T_tec_c, T_tec_h, T_ins, T_pgen, T_out, T_in, t"
   ]
  },
  {
   "cell_type": "markdown",
   "metadata": {},
   "source": [
    "### シミュレーション開始"
   ]
  },
  {
   "cell_type": "code",
   "execution_count": 125,
   "metadata": {},
   "outputs": [
    {
     "data": {
      "image/png": "[encoded data removed]",
      "text/plain": [
       "<Figure size 432x288 with 1 Axes>"
      ]
     },
     "metadata": {
      "needs_background": "light"
     },
     "output_type": "display_data"
    }
   ],
   "source": [
    "I = 0\n",
    "end = 10000\n",
    "step = 1\n",
    "\n",
    "T_obj, T_tec_c, T_tec_h, T_ins, T_pgen, T_out, T_in, t = simulation(T0, end, step)\n",
    "\n",
    "# \n",
    "pyplot.title('Tobj record')\n",
    "pyplot.xlabel('t [s]')\n",
    "pyplot.ylabel('T [K]')\n",
    "pyplot.plot(t, T_obj,'-', label = \"T_obj\")\n",
    "pyplot.plot(t, T_tec_c,'-', label = \"T_tec_c\")\n",
    "pyplot.plot(t, T_tec_h,'-', label = \"T_tec_h\")\n",
    "pyplot.plot(t, T_ins,'-', label = \"T_ins\")\n",
    "pyplot.plot(t, T_pgen,'-', label = \"T_pgen\")\n",
    "pyplot.plot(t, T_out,'-', label = \"T_out\")\n",
    "pyplot.plot(t, T_in,'-', label = \"T_in\")\n",
    "pyplot.legend()\n",
    "pyplot.show()\n",
    "\n",
    "# pyplot.title('I record')\n",
    "# pyplot.xlabel('t [s]')\n",
    "# pyplot.ylabel('I [A]')\n",
    "# pyplot.plot(t, I_record,'-')\n",
    "# pyplot.show()"
   ]
  },
  {
   "cell_type": "code",
   "execution_count": 126,
   "metadata": {},
   "outputs": [
    {
     "data": {
      "text/plain": [
       "-0.18041015788480919"
      ]
     },
     "execution_count": 126,
     "metadata": {},
     "output_type": "execute_result"
    }
   ],
   "source": [
    "T_tec_c[-1]"
   ]
  },
  {
   "cell_type": "code",
   "execution_count": 296,
   "metadata": {},
   "outputs": [],
   "source": [
    "# 定常状態を非線形連立方程式で解く\n",
    "# def func(x):\n",
    "#     y = []\n",
    "#     y.append(200 + 50*(x[0]-x[1])+100*(x[0]**4-x[1]**4))\n",
    "#     y.append(100 + 10*(x[1]-x[1])+50*(x[1]**4-x[0]**4))\n",
    "#     return y"
   ]
  },
  {
   "cell_type": "code",
   "execution_count": 297,
   "metadata": {},
   "outputs": [],
   "source": [
    "# def func(x):\n",
    "#     return [200 + 50*(x[0]-x[1])+100*(x[0]**4-x[1]**4),\n",
    "#             100 + 10*(x[1]-x[1])+50*(x[1]**4-x[0]**4)]"
   ]
  },
  {
   "cell_type": "code",
   "execution_count": 298,
   "metadata": {},
   "outputs": [],
   "source": [
    "# result = optimize.root(func, [0.0, 0.0], method=\"broyden1\")\n",
    "# print(result)"
   ]
  },
  {
   "cell_type": "code",
   "execution_count": 127,
   "metadata": {},
   "outputs": [],
   "source": [
    "# 定常状態を非線形連立方程式で解く（dT/dtを利用した場合）\n",
    "# TECを動かす前\n",
    "def func1(x):\n",
    "#     Qg[1]= -Qc_tec\n",
    "#     Qg[2]= P_tec+Qc_tec\n",
    "#     Qg[1] = (4.0*pel.Rho*pel.Km*pel.Nm*(x[2]-x[1])/(pel.Sm_ab*pel.Rm*(x[1]+x[2]))*(1.0+np.sqrt(1+pel.Sm_ab**2/2.0/pel.Rho/pel.Km*(x[1]+x[2]))))\n",
    "#     I_cpmax = pel.cAlculate_I_argmax_COP(x[1], x[2]-x[1])\n",
    "#     Qg[1]= - pel.cAlculate_QC(x[1], x[2]-x[1], I_cpmax)\n",
    "#     Qg[2]= pel.cAlculate_QH(x[1], x[2]-x[1], I_cpmax)\n",
    "    Qg[4]= P_gen\n",
    "    Qg[5]= -eps_osr*1.0*sigma*A_rad*(x[5]**4 - 4**4)\n",
    "    Qg[6]= Q_in - eps_sap*1.0*sigma*(A_all-A_rad)*(x[6]**4 - 4**4)\n",
    "    y = dT_dt(x, Cond_N, C, Qg)\n",
    "    return y"
   ]
  },
  {
   "cell_type": "code",
   "execution_count": 128,
   "metadata": {},
   "outputs": [
    {
     "name": "stdout",
     "output_type": "stream",
     "text": [
      "[273, 273, 273, 273, 273, 273, 273]\n",
      "     fun: array([ 1.22550313e-07, -1.49013195e-07,  7.75932914e-07,  2.12425740e-08,\n",
      "        6.79537545e-09,  1.17674113e-08,  4.64416668e-09])\n",
      " message: 'A solution was found at the specified tolerance.'\n",
      "     nit: 72\n",
      "  status: 1\n",
      " success: True\n",
      "       x: array([-1052.03327126, -1052.06616572,   154.08571176,    -2.94697248,\n",
      "         336.90546172,   153.24334666,   317.72640471])\n"
     ]
    }
   ],
   "source": [
    "# 非線形連立方程式を解く（引数は初期値を入れる）\n",
    "# TECを動かす前\n",
    "print(T0)\n",
    "result = optimize.root(func1, T0, method=\"broyden1\")\n",
    "T1 = result.x\n",
    "print(result)"
   ]
  },
  {
   "cell_type": "code",
   "execution_count": 52,
   "metadata": {},
   "outputs": [
    {
     "data": {
      "text/plain": [
       "72"
      ]
     },
     "execution_count": 52,
     "metadata": {},
     "output_type": "execute_result"
    }
   ],
   "source": [
    "# 非線形連立方程式のほかのステータスを見る\n",
    "result.nit"
   ]
  },
  {
   "cell_type": "code",
   "execution_count": 54,
   "metadata": {},
   "outputs": [],
   "source": [
    "# TECを動かす時にはTECの高熱・低熱ノード間のコンダクタンスを0にする\n",
    "Cond_N[1][2].K_ij=0.0\n",
    "Cond_N[2][1].K_ij=0.0\n",
    "pel.Nm = 500"
   ]
  },
  {
   "cell_type": "code",
   "execution_count": 230,
   "metadata": {},
   "outputs": [],
   "source": [
    "# 定常状態を非線形連立方程式で解く（dT/dtを利用した場合）\n",
    "# TECを動かす後\n",
    "def func2(x):\n",
    "#     Qg[1]= -Qc_tec\n",
    "#     Qg[2]= P_tec+Qc_tec\n",
    "    # 温度をクリッピングさせる\n",
    "    x = np.clip(x, 1.0e-2, None)\n",
    "    I_cpmax = min(I_max, (4.0*pel.Rho*pel.Km*pel.Nm*(x[2]-x[1])/(pel.Sm_ab*pel.Rm*(x[1]+x[2]))*(1.0+np.sqrt(1+pel.Sm_ab**2/2.0/pel.Rho/pel.Km*(x[1]+x[2])))))\n",
    "    Qg[1]= - (2 * pel.Nm * (pel.Sm_ab*x[1]*I_cpmax-2*pel.Nm*pel.Km*pel.Rho/pel.Rm*(x[2]-x[1])) - 0.5*pel.Rm*I_cpmax**2)\n",
    "    Qg[2]=  2 * pel.Nm * (pel.Sm_ab*x[2]*I_cpmax-2*pel.Nm*pel.Km*pel.Rho/pel.Rm*(x[2]-x[1])) + 0.5*pel.Rm*I_cpmax**2\n",
    "#     Qg[1]= - pel.cAlculate_QC(x[1], x[2]-x[1], I_cpmax)\n",
    "#     Qg[2]= pel.cAlculate_QH(x[1], x[2]-x[1], I_cpmax)\n",
    "    Qg[4]= P_gen\n",
    "    Qg[5]= -eps_osr*1.0*sigma*A_rad*(x[5]**4 - 4**4)\n",
    "    Qg[6]= Q_in - eps_sap*1.0*sigma*(A_all-A_rad)*(x[6]**4 - 4**4)\n",
    "    y = dT_dt(np.clip(x, 1.0e-2, None), Cond_N, C, Qg)\n",
    "    return y"
   ]
  },
  {
   "cell_type": "code",
   "execution_count": 231,
   "metadata": {},
   "outputs": [
    {
     "name": "stdout",
     "output_type": "stream",
     "text": [
      "[305.18190669 313.07751455 213.83137618 205.33998769 255.57510652\n",
      " 264.62998515 240.07079653]\n",
      "     fun: array([ 5.48029073e-07, -1.04391811e-06,  3.31158208e-06, -7.85305421e-07,\n",
      "       -4.52263785e-06,  1.21899692e-06,  4.40734506e-06])\n",
      " message: 'A solution was found at the specified tolerance.'\n",
      "     nit: 571\n",
      "  status: 1\n",
      " success: True\n",
      "       x: array([229.29970177, 229.29160584, 232.10399452, 278.87388233,\n",
      "       367.29495283, 231.98385489, 348.06517781])\n"
     ]
    }
   ],
   "source": [
    "# 非線形連立方程式を解く（引数は初期値を入れる）\n",
    "T_max = 350\n",
    "T_min = 100\n",
    "T_random = (T_max - T_min)*np.random.rand(N_node)+T_min\n",
    "print(T_random)\n",
    "# TECを動かす後\n",
    "result = optimize.root(func2, T_random, method=\"broyden1\")\n",
    "T2 = result.x\n",
    "print(result)"
   ]
  },
  {
   "cell_type": "code",
   "execution_count": 232,
   "metadata": {},
   "outputs": [
    {
     "name": "stdout",
     "output_type": "stream",
     "text": [
      "[211.02140952 211.01245345 265.86805865 289.17310851 372.27815379\n",
      " 261.50194977 353.10994287]\n",
      "2.7022160503382467e-06\n",
      "[211.02140952 211.01245345 265.86805865 289.17310851 372.27815379\n",
      " 261.50194977 353.10994287]\n",
      "2.7022160472572503e-06\n"
     ]
    }
   ],
   "source": [
    "# 非線形連立方程式の初期解をfor文で探すパターン\n",
    "N_rand = 100\n",
    "T_max = 350\n",
    "T_min = 100\n",
    "T_rand_arr = (T_max - T_min)*np.random.rand(N_rand, N_node)+T_min\n",
    "# print(T_rand_arr[0])\n",
    "# ノルムで最小値をセットする（ありえないくらい大きな値でセット）\n",
    "min_norm=100\n",
    "# まずは候補となりそうな初期解をざっくり見つける\n",
    "for T_rand_arr_i in T_rand_arr:\n",
    "    result = optimize.root(func2, T_rand_arr_i, method=\"broyden1\")\n",
    "    T_rand_result = result.x\n",
    "    norm = np.linalg.norm(func2(T_rand_result), ord=2)\n",
    "#     print('Error: {}'.format(norm))\n",
    "    if norm < min_norm:\n",
    "        min_norm = norm\n",
    "        result_min_norm = result\n",
    "#     print(np.linalg.norm(func2(T_rand_result), ord=2))\n",
    "#     print(T_rand_result)\n",
    "print(result_min_norm.x)\n",
    "print(np.linalg.norm(func2(result_min_norm.x), ord=2))\n",
    "\n",
    "# そのあとでその候補回りでちゃんと探す\n",
    "result_det = optimize.root(func2, result_min_norm.x, method=\"broyden1\")\n",
    "print(result_det.x)\n",
    "print(np.linalg.norm(func2(result_det.x), ord=2))"
   ]
  },
  {
   "cell_type": "code",
   "execution_count": 227,
   "metadata": {},
   "outputs": [
    {
     "name": "stdout",
     "output_type": "stream",
     "text": [
      "[224.69779003 224.68973745 227.50347871 270.41535158 341.9861575\n",
      " 227.38351917 334.31537417]\n",
      "     fun: array([ 5.58506912e-08, -7.05471625e-08,  1.20474473e-07,  2.95541803e-07,\n",
      "        7.76876583e-08,  3.13232216e-08, -4.58926606e-08])\n",
      " message: 'A solution was found at the specified tolerance.'\n",
      "     nit: 2\n",
      "  status: 1\n",
      " success: True\n",
      "       x: array([224.69779003, 224.68973745, 227.50347871, 270.41535158,\n",
      "       341.9861575 , 227.38351917, 334.31537417])\n"
     ]
    }
   ],
   "source": [
    "print(result_min_norm.x)\n",
    "print(optimize.root(func2, result_min_norm.x, method=\"broyden1\"))\n",
    "T2=result_min_norm.x"
   ]
  },
  {
   "cell_type": "code",
   "execution_count": 188,
   "metadata": {},
   "outputs": [
    {
     "name": "stdout",
     "output_type": "stream",
     "text": [
      "0.3732157222086645\n"
     ]
    }
   ],
   "source": [
    "# TECの電流\n",
    "I_cpmax=(4.0*pel.Rho*pel.Km*pel.Nm*(T2[2]-T2[1])/(pel.Sm_ab*pel.Rm*(T2[1]+T2[2]))*(1.0+np.sqrt(1+pel.Sm_ab**2/2.0/pel.Rho/pel.Km*(T2[1]+T2[2]))))\n",
    "print(I_cpmax)"
   ]
  },
  {
   "cell_type": "code",
   "execution_count": 160,
   "metadata": {},
   "outputs": [
    {
     "name": "stdout",
     "output_type": "stream",
     "text": [
      "[0.06720491912491981, 4.9328525077918774, -0.1830757144462795, 0.0015910464573215162, 6.795375448414445e-09, 0.0007770612516487541, 4.780023044756297e-06]\n",
      "4.936706413924073\n"
     ]
    }
   ],
   "source": [
    "# 本当に収束しているのかを検算する\n",
    "print(func2(T1))\n",
    "print(np.linalg.norm(func2(T1), ord=2))"
   ]
  },
  {
   "cell_type": "code",
   "execution_count": 63,
   "metadata": {},
   "outputs": [
    {
     "name": "stderr",
     "output_type": "stream",
     "text": [
      "<ipython-input-63-8cb56c3fd107>:1: RuntimeWarning: invalid value encountered in sqrt\n",
      "  np.sqrt(1+pel.Sm_ab**2/2.0/pel.Rho/pel.Km*(T1[1]+T1[2]))\n"
     ]
    },
    {
     "data": {
      "text/plain": [
       "nan"
      ]
     },
     "execution_count": 63,
     "metadata": {},
     "output_type": "execute_result"
    }
   ],
   "source": [
    "np.sqrt(1+pel.Sm_ab**2/2.0/pel.Rho/pel.Km*(T1[1]+T1[2]))"
   ]
  },
  {
   "cell_type": "code",
   "execution_count": 68,
   "metadata": {},
   "outputs": [
    {
     "data": {
      "text/plain": [
       "array([  0.        ,   0.        , 154.08571176,   0.        ,\n",
       "       336.90546172, 153.24334666, 317.72640471])"
      ]
     },
     "execution_count": 68,
     "metadata": {},
     "output_type": "execute_result"
    }
   ],
   "source": [
    "np.clip(T1,0, None)"
   ]
  },
  {
   "cell_type": "code",
   "execution_count": 292,
   "metadata": {},
   "outputs": [
    {
     "name": "stdout",
     "output_type": "stream",
     "text": [
      "I_tec : 0.046\n",
      "Qc_tec : 1.054\n",
      "Qh_tec : 1.061\n"
     ]
    }
   ],
   "source": [
    "# 定常状態のTEC情報\n",
    "I_tec = pel.cAlculate_I_argmax_COP(T1[1], T1[2]-T1[1])\n",
    "Qc_tec = pel.cAlculate_QC(T1[1], T1[2]-T1[1], I_tec)\n",
    "Qh_tec = pel.cAlculate_QH(T1[2], T1[2]-T1[1], I_tec)\n",
    "print(\"I_tec : %4.3f\" % I_tec)\n",
    "print(\"Qc_tec : %4.3f\" % Qc_tec)\n",
    "print(\"Qh_tec : %4.3f\" % Qh_tec)"
   ]
  },
  {
   "cell_type": "code",
   "execution_count": 399,
   "metadata": {},
   "outputs": [
    {
     "data": {
      "text/plain": [
       "[-0.00010827777012391422,\n",
       " -0.0005277306185437425,\n",
       " -5.4754491100084127e-05,\n",
       " 0.0029892547730952963,\n",
       " 0.006652537021372176,\n",
       " 0.0007602723166685061,\n",
       " -0.0007207570328562815]"
      ]
     },
     "execution_count": 399,
     "metadata": {},
     "output_type": "execute_result"
    }
   ],
   "source": [
    "dT_dt(result.x, Cond_N, C, Qg)"
   ]
  },
  {
   "cell_type": "code",
   "execution_count": 249,
   "metadata": {},
   "outputs": [
    {
     "data": {
      "text/plain": [
       "[0.030386674091335292,\n",
       " -0.1437712510663399,\n",
       " 0.3733915318150537,\n",
       " 7.070113348310266e-06,\n",
       " 7.1011148183743825e-06,\n",
       " -0.0012288361417054007,\n",
       " -0.0008427098029285131]"
      ]
     },
     "execution_count": 249,
     "metadata": {},
     "output_type": "execute_result"
    }
   ],
   "source": [
    "dT_dt([T_obj[-1], T_tec_c[-1], T_tec_h[-1], T_ins[-1], T_pgen[-1], T_out[-1], T_in[-1]], Cond_N, C, Qg)"
   ]
  },
  {
   "cell_type": "code",
   "execution_count": 16,
   "metadata": {},
   "outputs": [
    {
     "data": {
      "text/plain": [
       "3.186206072314235e-07"
      ]
     },
     "execution_count": 16,
     "metadata": {},
     "output_type": "execute_result"
    }
   ],
   "source": [
    "200 + 50 * (result.x[0] - result.x[1]) + 100 * (result.x[0]**4 - result.x[1]**4)"
   ]
  },
  {
   "cell_type": "code",
   "execution_count": 17,
   "metadata": {},
   "outputs": [
    {
     "data": {
      "text/plain": [
       "-1.593477350070316e-07"
      ]
     },
     "execution_count": 17,
     "metadata": {},
     "output_type": "execute_result"
    }
   ],
   "source": [
    "100 + 10 * (result.x[1] - result.x[1]) + 50 * (result.x[1]**4 - result.x[0]**4)"
   ]
  },
  {
   "cell_type": "code",
   "execution_count": null,
   "metadata": {},
   "outputs": [],
   "source": []
  }
 ],
 "metadata": {
  "kernelspec": {
   "display_name": "Python 3",
   "language": "python",
   "name": "python3"
  },
  "language_info": {
   "codemirror_mode": {
    "name": "ipython",
    "version": 3
   },
   "file_extension": ".py",
   "mimetype": "text/x-python",
   "name": "python",
   "nbconvert_exporter": "python",
   "pygments_lexer": "ipython3",
   "version": "3.8.3"
  }
 },
 "nbformat": 4,
 "nbformat_minor": 4
}
